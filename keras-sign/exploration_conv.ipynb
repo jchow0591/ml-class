{
 "cells": [
  {
   "cell_type": "code",
   "execution_count": null,
   "metadata": {},
   "outputs": [],
   "source": [
    "# A very simple perceptron for classifying american sign language letters\n",
    "import signdata\n",
    "import numpy as np\n",
    "from keras.models import Sequential\n",
    "from keras.layers import Dense, Flatten, Dropout, Reshape, Activation, MaxPooling2D, Conv2D\n",
    "from keras.utils import np_utils\n",
    "import wandb\n",
    "from wandb.keras import WandbCallback"
   ]
  },
  {
   "cell_type": "code",
   "execution_count": 20,
   "metadata": {},
   "outputs": [
    {
     "name": "stdout",
     "output_type": "stream",
     "text": [
      "W&B Run: https://app.wandb.ai/mlclass/sign-nov5/runs/xtatlvzf\n",
      "Call `%%wandb` in the cell containing your training loop to display live results.\n"
     ]
    }
   ],
   "source": [
    "# logging code\n",
    "run = wandb.init()\n",
    "config = run.config\n",
    "config.loss = \"categorical_crossentropy\"\n",
    "config.optimizer = \"adam\"\n",
    "config.epochs = 15\n",
    "\n",
    "# load data\n",
    "(X_test, y_test) = signdata.load_test_data()\n",
    "(X_train, y_train) = signdata.load_train_data()\n",
    "img_width = X_test.shape[1]\n",
    "img_height = X_test.shape[2]\n",
    "\n",
    "# one hot encode outputs\n",
    "y_train = np_utils.to_categorical(y_train)\n",
    "y_test = np_utils.to_categorical(y_test)\n",
    "\n",
    "num_classes = y_train.shape[1]\n",
    "\n",
    "# you may want to normalize the data here..\n",
    "def normal(input_x):\n",
    "    return (input_x - 128)/255\n",
    "\n",
    "X_test = normal(X_test)\n",
    "X_train = normal(X_train)\n",
    "\n",
    "# create model\n",
    "model=Sequential()\n",
    "# model.add(Flatten(input_shape=(img_width, img_height)))\n",
    "# model.add(Dropout(0.3))\n",
    "model.add(Reshape((28,28,1), input_shape=(img_width, img_height)))\n",
    "model.add(Dropout(0.3))\n",
    "model.add(Conv2D(12, (3,3)))\n",
    "model.add(Dropout(0.3))\n",
    "model.add(MaxPooling2D(pool_size=(3, 3)))\n",
    "model.add(Dropout(0.3))\n",
    "\n",
    "# model.add(Conv2D(6, (3,3)))\n",
    "# model.add(Dropout(0.3))\n",
    "# model.add(MaxPooling2D(pool_size=(2, 2)))\n",
    "# model.add(Dropout(0.3))\n",
    "\n",
    "model.add(Flatten())\n",
    "model.add(Dense(num_classes, activation='softmax'))\n",
    "model.compile(loss=config.loss, optimizer=config.optimizer,\n",
    "                metrics=['accuracy'])"
   ]
  },
  {
   "cell_type": "code",
   "execution_count": 21,
   "metadata": {},
   "outputs": [
    {
     "name": "stdout",
     "output_type": "stream",
     "text": [
      "Train on 27455 samples, validate on 7172 samples\n",
      "Epoch 1/15\n",
      "27455/27455 [==============================] - 3s 114us/step - loss: 2.2157 - acc: 0.3601 - val_loss: 1.7560 - val_acc: 0.4987\n",
      "Resuming run: https://app.wandb.ai/mlclass/sign-nov5/runs/xtatlvzf\n",
      "Epoch 2/15\n",
      "27455/27455 [==============================] - 2s 87us/step - loss: 1.3331 - acc: 0.5966 - val_loss: 1.3866 - val_acc: 0.5849\n",
      "Epoch 3/15\n",
      "27455/27455 [==============================] - 2s 88us/step - loss: 1.1076 - acc: 0.6586 - val_loss: 1.2484 - val_acc: 0.6138\n",
      "Epoch 4/15\n",
      "27455/27455 [==============================] - 2s 89us/step - loss: 0.9947 - acc: 0.6885 - val_loss: 1.2053 - val_acc: 0.6152\n",
      "Epoch 5/15\n",
      "27455/27455 [==============================] - 2s 87us/step - loss: 0.9288 - acc: 0.7060 - val_loss: 1.1796 - val_acc: 0.6233\n",
      "Epoch 6/15\n",
      "27455/27455 [==============================] - 2s 89us/step - loss: 0.8637 - acc: 0.7282 - val_loss: 1.1202 - val_acc: 0.6385\n",
      "Epoch 7/15\n",
      "27455/27455 [==============================] - 2s 89us/step - loss: 0.8157 - acc: 0.7435 - val_loss: 1.1127 - val_acc: 0.6453\n",
      "Epoch 8/15\n",
      "27455/27455 [==============================] - 2s 88us/step - loss: 0.7644 - acc: 0.7583 - val_loss: 1.1052 - val_acc: 0.6485\n",
      "Epoch 9/15\n",
      "27455/27455 [==============================] - 2s 90us/step - loss: 0.7325 - acc: 0.7700 - val_loss: 1.0651 - val_acc: 0.6605\n",
      "Epoch 10/15\n",
      "27455/27455 [==============================] - 2s 88us/step - loss: 0.7130 - acc: 0.7737 - val_loss: 1.0342 - val_acc: 0.6619\n",
      "Epoch 11/15\n",
      "27455/27455 [==============================] - 2s 88us/step - loss: 0.6778 - acc: 0.7826 - val_loss: 1.0083 - val_acc: 0.6769\n",
      "Epoch 12/15\n",
      "27455/27455 [==============================] - 2s 87us/step - loss: 0.6634 - acc: 0.7859 - val_loss: 1.0258 - val_acc: 0.6723\n",
      "Epoch 13/15\n",
      "27455/27455 [==============================] - 2s 87us/step - loss: 0.6300 - acc: 0.8006 - val_loss: 1.0466 - val_acc: 0.6689\n",
      "Epoch 14/15\n",
      "27455/27455 [==============================] - 2s 87us/step - loss: 0.6226 - acc: 0.8012 - val_loss: 1.0078 - val_acc: 0.6821\n",
      "Epoch 15/15\n",
      "27455/27455 [==============================] - 2s 87us/step - loss: 0.6119 - acc: 0.8040 - val_loss: 1.0309 - val_acc: 0.6788\n"
     ]
    },
    {
     "data": {
      "text/plain": [
       "<keras.callbacks.History at 0x7f0d8e8262e8>"
      ]
     },
     "execution_count": 21,
     "metadata": {},
     "output_type": "execute_result"
    }
   ],
   "source": [
    "# Fit the model\n",
    "model.fit(X_train, y_train, \n",
    "          epochs=config.epochs,\n",
    "          batch_size=128,\n",
    "          validation_data=(X_test, y_test), \n",
    "          callbacks=[WandbCallback(data_type=\"image\", labels=signdata.letters)])"
   ]
  },
  {
   "cell_type": "code",
   "execution_count": null,
   "metadata": {},
   "outputs": [],
   "source": [
    "X_test[0].shape"
   ]
  },
  {
   "cell_type": "code",
   "execution_count": null,
   "metadata": {},
   "outputs": [],
   "source": []
  }
 ],
 "metadata": {
  "kernelspec": {
   "display_name": "Python 3",
   "language": "python",
   "name": "python3"
  },
  "language_info": {
   "codemirror_mode": {
    "name": "ipython",
    "version": 3
   },
   "file_extension": ".py",
   "mimetype": "text/x-python",
   "name": "python",
   "nbconvert_exporter": "python",
   "pygments_lexer": "ipython3",
   "version": "3.6.6"
  }
 },
 "nbformat": 4,
 "nbformat_minor": 2
}
