{
 "cells": [
  {
   "cell_type": "code",
   "execution_count": 1,
   "metadata": {},
   "outputs": [
    {
     "name": "stderr",
     "output_type": "stream",
     "text": [
      "Using TensorFlow backend.\n"
     ]
    }
   ],
   "source": [
    "# A very simple perceptron for classifying american sign language letters\n",
    "import signdata\n",
    "import numpy as np\n",
    "from keras.models import Sequential\n",
    "from keras.layers import Dense, Flatten, Dropout, Activation\n",
    "from keras.utils import np_utils\n",
    "import wandb\n",
    "from wandb.keras import WandbCallback"
   ]
  },
  {
   "cell_type": "code",
   "execution_count": 18,
   "metadata": {},
   "outputs": [
    {
     "name": "stdout",
     "output_type": "stream",
     "text": [
      "W&B Run: https://app.wandb.ai/mlclass/sign-nov5/runs/ppjpglln\n",
      "Call `%%wandb` in the cell containing your training loop to display live results.\n"
     ]
    }
   ],
   "source": [
    "# logging code\n",
    "run = wandb.init()\n",
    "config = run.config\n",
    "config.loss = \"categorical_crossentropy\"\n",
    "config.optimizer = \"adam\"\n",
    "config.epochs = 30\n",
    "\n",
    "# load data\n",
    "(X_test, y_test) = signdata.load_test_data()\n",
    "(X_train, y_train) = signdata.load_train_data()\n",
    "img_width = X_test.shape[1]\n",
    "img_height = X_test.shape[2]\n",
    "\n",
    "# one hot encode outputs\n",
    "y_train = np_utils.to_categorical(y_train)\n",
    "y_test = np_utils.to_categorical(y_test)\n",
    "\n",
    "num_classes = y_train.shape[1]\n",
    "\n",
    "# you may want to normalize the data here..\n",
    "def normal(input_x):\n",
    "    return (input_x - 128)/255\n",
    "\n",
    "X_test = normal(X_test)\n",
    "X_train = normal(X_train)\n",
    "\n",
    "# create model\n",
    "model=Sequential()\n",
    "model.add(Flatten(input_shape=(img_width, img_height)))\n",
    "model.add(Dropout(0.3))\n",
    "model.add(Dense(128, activation='relu'))\n",
    "model.add(Dropout(0.3))\n",
    "model.add(Dense(64, activation='relu'))\n",
    "model.add(Dropout(0.3))\n",
    "model.add(Dense(32, activation='relu'))\n",
    "model.add(Dropout(0.3))\n",
    "model.add(Dense(num_classes, activation='softmax'))\n",
    "model.compile(loss=config.loss, optimizer=config.optimizer,\n",
    "                metrics=['accuracy'])"
   ]
  },
  {
   "cell_type": "code",
   "execution_count": 19,
   "metadata": {},
   "outputs": [
    {
     "name": "stdout",
     "output_type": "stream",
     "text": [
      "Train on 27455 samples, validate on 7172 samples\n",
      "Epoch 1/30\n",
      "27455/27455 [==============================] - 3s 98us/step - loss: 2.5560 - acc: 0.2076 - val_loss: 1.7052 - val_acc: 0.4922\n",
      "Resuming run: https://app.wandb.ai/mlclass/sign-nov5/runs/ppjpglln\n",
      "Epoch 2/30\n",
      "27455/27455 [==============================] - 2s 79us/step - loss: 1.6901 - acc: 0.4383 - val_loss: 1.2515 - val_acc: 0.6234\n",
      "Epoch 3/30\n",
      "27455/27455 [==============================] - 2s 77us/step - loss: 1.3149 - acc: 0.5573 - val_loss: 1.0325 - val_acc: 0.6580\n",
      "Epoch 4/30\n",
      "27455/27455 [==============================] - 2s 72us/step - loss: 1.1171 - acc: 0.6188 - val_loss: 0.9489 - val_acc: 0.6726\n",
      "Epoch 5/30\n",
      "27455/27455 [==============================] - 2s 76us/step - loss: 0.9713 - acc: 0.6665 - val_loss: 0.8520 - val_acc: 0.6995\n",
      "Epoch 6/30\n",
      "27455/27455 [==============================] - 2s 74us/step - loss: 0.8835 - acc: 0.6979 - val_loss: 0.8206 - val_acc: 0.7296\n",
      "Epoch 7/30\n",
      "27455/27455 [==============================] - 2s 75us/step - loss: 0.8012 - acc: 0.7280 - val_loss: 0.7720 - val_acc: 0.7308\n",
      "Epoch 8/30\n",
      "27455/27455 [==============================] - 2s 74us/step - loss: 0.7336 - acc: 0.7566 - val_loss: 0.7616 - val_acc: 0.7379\n",
      "Epoch 9/30\n",
      "27455/27455 [==============================] - 2s 73us/step - loss: 0.6786 - acc: 0.7739 - val_loss: 0.7434 - val_acc: 0.7446\n",
      "Epoch 10/30\n",
      "27455/27455 [==============================] - 2s 73us/step - loss: 0.6420 - acc: 0.7866 - val_loss: 0.7271 - val_acc: 0.7536\n",
      "Epoch 11/30\n",
      "27455/27455 [==============================] - 2s 76us/step - loss: 0.6054 - acc: 0.7999 - val_loss: 0.7071 - val_acc: 0.7674\n",
      "Epoch 12/30\n",
      "27455/27455 [==============================] - 2s 75us/step - loss: 0.5801 - acc: 0.8098 - val_loss: 0.7100 - val_acc: 0.7712\n",
      "Epoch 13/30\n",
      "27455/27455 [==============================] - 2s 74us/step - loss: 0.5564 - acc: 0.8177 - val_loss: 0.7431 - val_acc: 0.7518\n",
      "Epoch 14/30\n",
      "27455/27455 [==============================] - 2s 75us/step - loss: 0.5159 - acc: 0.8332 - val_loss: 0.7158 - val_acc: 0.7648\n",
      "Epoch 15/30\n",
      "27455/27455 [==============================] - 2s 75us/step - loss: 0.5122 - acc: 0.8341 - val_loss: 0.7107 - val_acc: 0.7821\n",
      "Epoch 16/30\n",
      "27455/27455 [==============================] - 2s 77us/step - loss: 0.4853 - acc: 0.8471 - val_loss: 0.7332 - val_acc: 0.7890\n",
      "Epoch 17/30\n",
      "27455/27455 [==============================] - 2s 74us/step - loss: 0.4681 - acc: 0.8506 - val_loss: 0.7335 - val_acc: 0.7814\n",
      "Epoch 18/30\n",
      "27455/27455 [==============================] - 2s 74us/step - loss: 0.4402 - acc: 0.8623 - val_loss: 0.7143 - val_acc: 0.7821\n",
      "Epoch 19/30\n",
      "27455/27455 [==============================] - 2s 74us/step - loss: 0.4387 - acc: 0.8600 - val_loss: 0.7356 - val_acc: 0.7836\n",
      "Epoch 20/30\n",
      "27455/27455 [==============================] - 2s 75us/step - loss: 0.4302 - acc: 0.8654 - val_loss: 0.7185 - val_acc: 0.7804\n",
      "Epoch 21/30\n",
      "27455/27455 [==============================] - 2s 75us/step - loss: 0.4210 - acc: 0.8673 - val_loss: 0.7359 - val_acc: 0.7780\n",
      "Epoch 22/30\n",
      "27455/27455 [==============================] - 2s 75us/step - loss: 0.4103 - acc: 0.8732 - val_loss: 0.7176 - val_acc: 0.7910\n",
      "Epoch 23/30\n",
      "27455/27455 [==============================] - 2s 75us/step - loss: 0.3989 - acc: 0.8780 - val_loss: 0.7397 - val_acc: 0.7740\n",
      "Epoch 24/30\n",
      "27455/27455 [==============================] - 2s 76us/step - loss: 0.3849 - acc: 0.8807 - val_loss: 0.6895 - val_acc: 0.8005\n",
      "Epoch 25/30\n",
      "27455/27455 [==============================] - 2s 74us/step - loss: 0.3871 - acc: 0.8826 - val_loss: 0.6737 - val_acc: 0.8010\n",
      "Epoch 26/30\n",
      "27455/27455 [==============================] - 2s 75us/step - loss: 0.3838 - acc: 0.8840 - val_loss: 0.6909 - val_acc: 0.7857\n",
      "Epoch 27/30\n",
      "27455/27455 [==============================] - 2s 73us/step - loss: 0.3728 - acc: 0.8875 - val_loss: 0.7307 - val_acc: 0.7865\n",
      "Epoch 28/30\n",
      "27455/27455 [==============================] - 2s 75us/step - loss: 0.3589 - acc: 0.8896 - val_loss: 0.6759 - val_acc: 0.7998\n",
      "Epoch 29/30\n",
      "27455/27455 [==============================] - 2s 75us/step - loss: 0.3478 - acc: 0.8968 - val_loss: 0.7079 - val_acc: 0.7941\n",
      "Epoch 30/30\n",
      "27455/27455 [==============================] - 2s 76us/step - loss: 0.3430 - acc: 0.8961 - val_loss: 0.6786 - val_acc: 0.8056\n"
     ]
    },
    {
     "data": {
      "text/plain": [
       "<keras.callbacks.History at 0x7f33071d12b0>"
      ]
     },
     "execution_count": 19,
     "metadata": {},
     "output_type": "execute_result"
    }
   ],
   "source": [
    "# Fit the model\n",
    "model.fit(X_train, y_train, \n",
    "          epochs=config.epochs,\n",
    "          batch_size=128,\n",
    "          validation_data=(X_test, y_test), \n",
    "          callbacks=[WandbCallback(data_type=\"image\", labels=signdata.letters)])"
   ]
  },
  {
   "cell_type": "code",
   "execution_count": null,
   "metadata": {},
   "outputs": [],
   "source": [
    "import pprint as pp\n",
    "pp.pprint(list(zip(model.predict(X_train[:2]),y_train[:2])))"
   ]
  },
  {
   "cell_type": "code",
   "execution_count": null,
   "metadata": {},
   "outputs": [],
   "source": [
    "import pprint as pp\n",
    "pp.pprint(list(zip(model.predict(X_train[:2]),y_train[:2])))"
   ]
  },
  {
   "cell_type": "code",
   "execution_count": null,
   "metadata": {},
   "outputs": [],
   "source": [
    "X_test"
   ]
  },
  {
   "cell_type": "code",
   "execution_count": null,
   "metadata": {},
   "outputs": [],
   "source": []
  },
  {
   "cell_type": "code",
   "execution_count": null,
   "metadata": {},
   "outputs": [],
   "source": []
  }
 ],
 "metadata": {
  "kernelspec": {
   "display_name": "Python 3",
   "language": "python",
   "name": "python3"
  },
  "language_info": {
   "codemirror_mode": {
    "name": "ipython",
    "version": 3
   },
   "file_extension": ".py",
   "mimetype": "text/x-python",
   "name": "python",
   "nbconvert_exporter": "python",
   "pygments_lexer": "ipython3",
   "version": "3.6.6"
  }
 },
 "nbformat": 4,
 "nbformat_minor": 2
}
